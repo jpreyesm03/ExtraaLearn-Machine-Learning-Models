{
 "cells": [
  {
   "cell_type": "markdown",
   "id": "AT5OogJVFbwu",
   "metadata": {
    "id": "AT5OogJVFbwu"
   },
   "source": [
    "# ExtraaLearn Project\n",
    "\n",
    "## Context\n",
    "\n",
    "The EdTech industry has been surging in the past decade immensely, and according to a forecast, the Online Education market would be worth $286.62bn by 2023 with a compound annual growth rate (CAGR) of 10.26% from 2018 to 2023. The modern era of online education has enforced a lot in its growth and expansion beyond any limit. Due to having many dominant features like ease of information sharing, personalized learning experience, transparency of assessment, etc, it is now preferable to traditional education. \n",
    "\n",
    "In the present scenario due to the Covid-19, the online education sector has witnessed rapid growth and is attracting a lot of new customers. Due to this rapid growth, many new companies have emerged in this industry. With the availability and ease of use of digital marketing resources, companies can reach out to a wider audience with their offerings. The customers who show interest in these offerings are termed as leads. There are various sources of obtaining leads for Edtech companies, like\n",
    "\n",
    "* The customer interacts with the marketing front on social media or other online platforms. \n",
    "* The customer browses the website/app and downloads the brochure\n",
    "* The customer connects through emails for more information.\n",
    "\n",
    "The company then nurtures these leads and tries to convert them to paid customers. For this, the representative from the organization connects with the lead on call or through email to share further details.\n",
    "\n",
    "## Objective\n",
    "\n",
    "ExtraaLearn is an initial stage startup that offers programs on cutting-edge technologies to students and professionals to help them upskill/reskill. With a large number of leads being generated on a regular basis, one of the issues faced by ExtraaLearn is to identify which of the leads are more likely to convert so that they can allocate resources accordingly. You, as a data scientist at ExtraaLearn, have been provided the leads data to:\n",
    "* Analyze and build an ML model to help identify which leads are more likely to convert to paid customers, \n",
    "* Find the factors driving the lead conversion process\n",
    "* Create a profile of the leads which are likely to convert\n",
    "\n",
    "\n",
    "## Data Description\n",
    "\n",
    "The data contains the different attributes of leads and their interaction details with ExtraaLearn. The detailed data dictionary is given below.\n",
    "\n",
    "\n",
    "**Data Dictionary**\n",
    "* ID: ID of the lead\n",
    "* age: Age of the lead\n",
    "* current_occupation: Current occupation of the lead. Values include 'Professional','Unemployed',and 'Student'\n",
    "* first_interaction: How did the lead first interacted with ExtraaLearn. Values include 'Website', 'Mobile App'\n",
    "* profile_completed: What percentage of profile has been filled by the lead on the website/mobile app. Values include Low - (0-50%), Medium - (50-75%), High (75-100%)\n",
    "* website_visits: How many times has a lead visited the website\n",
    "* time_spent_on_website: Total time spent on the website\n",
    "* page_views_per_visit: Average number of pages on the website viewed during the visits.\n",
    "* last_activity: Last interaction between the lead and ExtraaLearn. \n",
    "    * Email Activity: Seeking for details about program through email, Representative shared information with lead like brochure of program , etc \n",
    "    * Phone Activity: Had a Phone Conversation with representative, Had conversation over SMS with representative, etc\n",
    "    * Website Activity: Interacted on live chat with representative, Updated profile on website, etc\n",
    "\n",
    "* print_media_type1: Flag indicating whether the lead had seen the ad of ExtraaLearn in the Newspaper.\n",
    "* print_media_type2: Flag indicating whether the lead had seen the ad of ExtraaLearn in the Magazine.\n",
    "* digital_media: Flag indicating whether the lead had seen the ad of ExtraaLearn on the digital platforms.\n",
    "* educational_channels: Flag indicating whether the lead had heard about ExtraaLearn in the education channels like online forums, discussion threads, educational websites, etc.\n",
    "* referral: Flag indicating whether the lead had heard about ExtraaLearn through reference.\n",
    "* status: Flag indicating whether the lead was converted to a paid customer or not."
   ]
  },
  {
   "cell_type": "markdown",
   "id": "dirty-island",
   "metadata": {
    "id": "dirty-island"
   },
   "source": [
    "## Importing necessary libraries and data"
   ]
  },
  {
   "cell_type": "code",
   "execution_count": null,
   "id": "statewide-still",
   "metadata": {
    "id": "statewide-still"
   },
   "outputs": [],
   "source": [
    "import warnings\n",
    "\n",
    "warnings.filterwarnings(\"ignore\")\n",
    "from statsmodels.tools.sm_exceptions import ConvergenceWarning\n",
    "\n",
    "warnings.simplefilter(\"ignore\", ConvergenceWarning)\n",
    "\n",
    "# Libraries to help with reading and manipulating data\n",
    "\n",
    "import pandas as pd\n",
    "import numpy as np\n",
    "\n",
    "# Library to split data\n",
    "from sklearn.model_selection import train_test_split\n",
    "\n",
    "# libaries to help with data visualization\n",
    "import matplotlib.pyplot as plt\n",
    "import seaborn as sns\n",
    "\n",
    "# Removes the limit for the number of displayed columns\n",
    "pd.set_option(\"display.max_columns\", None)\n",
    "# Sets the limit for the number of displayed rows\n",
    "pd.set_option(\"display.max_rows\", 200)\n",
    "# setting the precision of floating numbers to 5 decimal points\n",
    "pd.set_option(\"display.float_format\", lambda x: \"%.5f\" % x)\n",
    "\n",
    "# To build model for prediction\n",
    "import statsmodels.stats.api as sms\n",
    "from statsmodels.stats.outliers_influence import variance_inflation_factor\n",
    "import statsmodels.api as sm\n",
    "from statsmodels.tools.tools import add_constant\n",
    "from sklearn.linear_model import LogisticRegression\n",
    "from sklearn.tree import DecisionTreeClassifier\n",
    "from sklearn import tree\n",
    "from sklearn.ensemble import RandomForestClassifier\n",
    "\n",
    "# To tune different models\n",
    "from sklearn.model_selection import GridSearchCV\n",
    "\n",
    "\n",
    "# To get diferent metric scores\n",
    "import sklearn.metrics as metrics\n",
    "from sklearn.metrics import (\n",
    "    f1_score,\n",
    "    accuracy_score,\n",
    "    recall_score,\n",
    "    precision_score,\n",
    "    confusion_matrix,\n",
    "    classification_report,\n",
    "    roc_auc_score,\n",
    "    precision_recall_curve,\n",
    "    roc_curve,\n",
    "    make_scorer,\n",
    ")"
   ]
  },
  {
   "cell_type": "markdown",
   "id": "desperate-infection",
   "metadata": {
    "id": "desperate-infection"
   },
   "source": [
    "## Data Overview\n",
    "\n",
    "- Let's see how the dataframe looks like"
   ]
  },
  {
   "cell_type": "code",
   "execution_count": null,
   "id": "persistent-juice",
   "metadata": {
    "id": "persistent-juice"
   },
   "outputs": [],
   "source": [
    "original_data = pd.read_csv(r\"C:\\Users\\jprey\\OneDrive\\Escritorio\\JP\\KUL\\5th Semester (Polimi)\\MIT IDSS\\Classification and Hypothesis Testing\\Extraa_learn.csv\")\n",
    "data = original_data.copy()"
   ]
  },
  {
   "cell_type": "code",
   "execution_count": null,
   "id": "a9049836",
   "metadata": {},
   "outputs": [],
   "source": [
    "data.head()"
   ]
  },
  {
   "cell_type": "code",
   "execution_count": null,
   "id": "16a5eaab",
   "metadata": {},
   "outputs": [],
   "source": [
    "data.info()"
   ]
  },
  {
   "cell_type": "code",
   "execution_count": null,
   "id": "4af22749",
   "metadata": {},
   "outputs": [],
   "source": [
    "data.drop_duplicates(inplace=True)"
   ]
  },
  {
   "cell_type": "markdown",
   "id": "05487eb4",
   "metadata": {},
   "source": [
    "### Observations from Data Overview:\n",
    "- 4612 datapoints (rows), 15 categories colected (columns)\n",
    "- No Duplicates, no null values\n",
    "- Only Age, Website Visits, Time Spent On Website, Page Views Per Visit and Status are numerical values. Although status is binary classification rather than a numerical datatype."
   ]
  },
  {
   "cell_type": "markdown",
   "id": "seasonal-calibration",
   "metadata": {
    "id": "seasonal-calibration"
   },
   "source": [
    "## Exploratory Data Analysis (EDA)\n",
    "\n",
    "- EDA is an important part of any project involving data.\n",
    "- It is important to investigate and understand the data better before building a model with it.\n",
    "- A few questions have been mentioned below which will help you approach the analysis in the right manner and generate insights from the data.\n",
    "- A thorough analysis of the data, in addition to the questions mentioned below, should be done."
   ]
  },
  {
   "cell_type": "markdown",
   "id": "approved-brother",
   "metadata": {
    "id": "approved-brother"
   },
   "source": [
    "**Questions**\n",
    "1. Leads will have different expectations from the outcome of the course and the current occupation may play a key role in getting them to participate in the program. Find out how current occupation affects lead status.\n",
    "2. The company's first impression on the customer must have an impact. Do the first channels of interaction have an impact on the lead status? \n",
    "3. The company uses multiple modes to interact with prospects. Which way of interaction works best? \n",
    "4. The company gets leads from various channels such as print media, digital media, referrals, etc. Which of these channels have the highest lead conversion rate?\n",
    "5. People browsing the website or mobile application are generally required to create a profile by sharing their personal data before they can access additional information.Does having more details about a prospect increase the chances of conversion?"
   ]
  },
  {
   "cell_type": "markdown",
   "id": "alleged-spirituality",
   "metadata": {
    "id": "alleged-spirituality"
   },
   "source": [
    "## Data Preprocessing\n",
    "\n",
    "- Missing value treatment (if needed)\n",
    "- Feature engineering (if needed)\n",
    "- Outlier detection and treatment (if needed)\n",
    "- Preparing data for modeling \n",
    "- Any other preprocessing steps (if needed)"
   ]
  },
  {
   "cell_type": "code",
   "execution_count": null,
   "id": "increasing-louisiana",
   "metadata": {
    "id": "increasing-louisiana"
   },
   "outputs": [],
   "source": [
    "# The first column will not be helpful for our analysis.\n",
    "data = data.drop(\"ID\", axis=1)\n",
    "data.head()"
   ]
  },
  {
   "cell_type": "code",
   "execution_count": null,
   "id": "f8038373",
   "metadata": {},
   "outputs": [],
   "source": [
    "# Making a list of all catrgorical variables\n",
    "categorical_columns = list(data.select_dtypes(\"object\").columns)\n",
    "\n",
    "# Printing the different filled in values per categorical category\n",
    "for column in categorical_columns:\n",
    "    print(data[column].value_counts())\n",
    "    print(\"-\" * 50)"
   ]
  },
  {
   "cell_type": "markdown",
   "id": "9478d981",
   "metadata": {},
   "source": [
    "#### Observations:\n",
    "- The data answers seems coherent suggesting a clean dataset.\n",
    "- Each column has 2 or 3 answers at most. This categorical columns can be used to \"hue\" the different plots."
   ]
  },
  {
   "cell_type": "markdown",
   "id": "6445d087",
   "metadata": {},
   "source": [
    "### Univariate Analysis\n"
   ]
  },
  {
   "cell_type": "markdown",
   "id": "002492d9",
   "metadata": {},
   "source": [
    "#### Function to generate a Box Plot on top of a Histogram."
   ]
  },
  {
   "cell_type": "code",
   "execution_count": null,
   "id": "4d0055d2",
   "metadata": {},
   "outputs": [],
   "source": [
    "# function to plot a boxplot and a histogram along the same scale for valuable visualization\n",
    "\n",
    "def histogram_boxplot(data, feature, figsize=(12, 7), kde=False, bins=None):\n",
    "    \"\"\"\n",
    "    Boxplot and histogram combined\n",
    "\n",
    "    data: dataframe going to be used\n",
    "    feature: dataframe column to be evaluated\n",
    "    figsize: size of the figure (default (12,7))\n",
    "    kde: whether to the show density curve (default False)\n",
    "    bins: number of bins for histogram (default None)\n",
    "    \"\"\"\n",
    "    f1, (ax_box2, ax_hist2) = plt.subplots(\n",
    "        nrows=2,  # Number of rows of the subplot grid= 2\n",
    "        sharex=True,  # x-axis will be shared among all subplots\n",
    "        gridspec_kw={\"height_ratios\": (0.25, 0.75)}, # The upper figure will use 25% of the space, the lower one the 75% remaining.\n",
    "        figsize=figsize,\n",
    "    )  \n",
    "    \n",
    "    # Creating the 2 subplots\n",
    "    \n",
    "    # A boxplot will be created and a star will indicate the mean value of the column\n",
    "    sns.boxplot(data=data, x=feature, ax=ax_box2, showmeans=True, color=\"violet\")\n",
    "    \n",
    "    # For the histogram\n",
    "    if bins: # If bins parameter is passed\n",
    "        sns.histplot(data=data, x=feature, kde=kde, ax=ax_hist2, bins=bins, palette=\"winter\")\n",
    "    else:\n",
    "        sns.histplot(data=data, x=feature, kde=kde, ax=ax_hist2)\n",
    "    # Vertical line for the mean    \n",
    "    ax_hist2.axvline(data[feature].mean(), color=\"green\", linestyle=\"--\")\n",
    "    # Vertical line for the median\n",
    "    ax_hist2.axvline(data[feature].median(), color=\"black\", linestyle=\"-\")"
   ]
  },
  {
   "cell_type": "markdown",
   "id": "6f8cb71b",
   "metadata": {},
   "source": [
    "#### Let's explore the Age category"
   ]
  },
  {
   "cell_type": "code",
   "execution_count": null,
   "id": "fe21d1e7",
   "metadata": {},
   "outputs": [],
   "source": [
    "histogram_boxplot(data, \"age\")"
   ]
  },
  {
   "cell_type": "markdown",
   "id": "27553f7d",
   "metadata": {},
   "source": [
    "##### Age values seem in order and no outlier treatment needed."
   ]
  },
  {
   "cell_type": "markdown",
   "id": "72b390c1",
   "metadata": {},
   "source": [
    "#### Let's explore the Time Spent on Website Category"
   ]
  },
  {
   "cell_type": "code",
   "execution_count": null,
   "id": "9a797ea7",
   "metadata": {},
   "outputs": [],
   "source": [
    "histogram_boxplot(data, \"time_spent_on_website\")"
   ]
  },
  {
   "cell_type": "markdown",
   "id": "375ae35e",
   "metadata": {},
   "source": [
    "##### Time Spent on Website values seem in order and no outlier treatment needed. It is pertinent to mention that the distribution is rather bimodal."
   ]
  },
  {
   "cell_type": "markdown",
   "id": "39b1ff39",
   "metadata": {},
   "source": [
    "#### Let's explore the Page Views per Visit Category"
   ]
  },
  {
   "cell_type": "code",
   "execution_count": null,
   "id": "3543b074",
   "metadata": {},
   "outputs": [],
   "source": [
    "histogram_boxplot(data, \"page_views_per_visit\")"
   ]
  },
  {
   "cell_type": "markdown",
   "id": "c72da9d0",
   "metadata": {},
   "source": [
    "##### Page Views Per Visit values seem in order and no outlier treatment needed. The outliers come from some very frequent clients. The distribution is rather multimodal."
   ]
  },
  {
   "cell_type": "code",
   "execution_count": null,
   "id": "e3e76622",
   "metadata": {},
   "outputs": [],
   "source": [
    "pip install mypy"
   ]
  },
  {
   "cell_type": "markdown",
   "id": "d8cb4a83",
   "metadata": {},
   "source": [
    "#### Function for Categorical Columns. Visualization of the distribution of values"
   ]
  },
  {
   "cell_type": "code",
   "execution_count": null,
   "id": "bc2412d3",
   "metadata": {},
   "outputs": [],
   "source": [
    "# Function to create labeled barplots for categorical columns\n",
    "def labeled_barplot(data, feature, perc=False, n=None):\n",
    "    \"\"\"\n",
    "    Barplot with percentage label at the top\n",
    "\n",
    "    data: dataframe to be considered\n",
    "    feature: existing column in the dataframe to be considered\n",
    "    perc: whether to display percentages instead of count (default is False)\n",
    "    n: displays the top n category levels (default is None, i.e., display all levels)\n",
    "    \"\"\"\n",
    "\n",
    "    number_of_datapoints = len(data[feature])  # Total number of datapoints\n",
    "    nr_of_categories = data[feature].nunique() # Counts the number of categories\n",
    "    if n is None:\n",
    "        plt.figure(figsize=(nr_of_categories + 1, 5))\n",
    "    else:\n",
    "        plt.figure(figsize=(n + 1, 5))\n",
    "\n",
    "    plt.xticks(rotation=90, fontsize=15)\n",
    "    ax = sns.countplot(\n",
    "        data=data,\n",
    "        x=feature,\n",
    "        palette=\"Paired\",\n",
    "        order=data[feature].value_counts().index[:n].sort_values(),\n",
    "        # column from dataframe => count the occurences per category =>...\n",
    "        # ...=> get the first n elements (in n=None => index[:None]=index[:] => it gets all)... =>\n",
    "        # ...=> sort them by alphabetical order of the categories.\n",
    "    )\n",
    "\n",
    "    for p in ax.patches: # a patch is a bar <=> a category\n",
    "        if perc == True:\n",
    "            # Formatted to one decimal place and percentage symbol included.\n",
    "            # get_height() returns the height of the bar <=> instances of that category\n",
    "            label = \"{:.1f}%\".format(100 * p.get_height() / number_of_datapoints)\n",
    "        else:\n",
    "            # get_height() returns the height of the bar <=> instances of that category\n",
    "            label = p.get_height()\n",
    "\n",
    "        # Where to position the label\n",
    "        # Horizontally: find the beginning of the bar, and add half of its length (centered)\n",
    "        x = p.get_x() + p.get_width() / 2\n",
    "        y = p.get_height()  # Vertically: Height of the bar\n",
    "\n",
    "        # Writing the label\n",
    "        ax.annotate(\n",
    "        label,                # The text to display (either percentage or count)\n",
    "        (x, y),               # Coordinates (x, y) where the text should be positioned\n",
    "        ha=\"center\",          # Horizontal alignment of the text relative to the (x, y) point\n",
    "        va=\"center\",          # Vertical alignment of the text relative to the (x, y) point\n",
    "        size=12,              # Font size of the text\n",
    "        xytext=(0, 5),        # Offset of the text from (x, y) in (x, y) coordinates\n",
    "        textcoords=\"offset points\"  # Interprets xytext as an offset in points (not data units)\n",
    "        )\n",
    "\n",
    "    plt.show()  # show the plot"
   ]
  },
  {
   "cell_type": "markdown",
   "id": "difficult-union",
   "metadata": {
    "id": "difficult-union"
   },
   "source": [
    "## EDA\n",
    "\n",
    "- It is a good idea to explore the data once again after manipulating it."
   ]
  },
  {
   "cell_type": "code",
   "execution_count": null,
   "id": "interested-talent",
   "metadata": {
    "id": "interested-talent"
   },
   "outputs": [],
   "source": []
  },
  {
   "cell_type": "markdown",
   "id": "amazing-fluid",
   "metadata": {
    "id": "amazing-fluid"
   },
   "source": [
    "## Building a Decision Tree model"
   ]
  },
  {
   "cell_type": "code",
   "execution_count": null,
   "id": "neither-hydrogen",
   "metadata": {
    "id": "neither-hydrogen"
   },
   "outputs": [],
   "source": []
  },
  {
   "cell_type": "markdown",
   "id": "limited-strengthening",
   "metadata": {
    "id": "limited-strengthening"
   },
   "source": [
    "## Do we need to prune the tree?"
   ]
  },
  {
   "cell_type": "code",
   "execution_count": null,
   "id": "ambient-elements",
   "metadata": {
    "id": "ambient-elements"
   },
   "outputs": [],
   "source": []
  },
  {
   "cell_type": "markdown",
   "id": "a8c47c07",
   "metadata": {
    "id": "amazing-fluid"
   },
   "source": [
    "## Building a Random Forest model"
   ]
  },
  {
   "cell_type": "code",
   "execution_count": null,
   "id": "8bbd87fb",
   "metadata": {},
   "outputs": [],
   "source": []
  },
  {
   "cell_type": "markdown",
   "id": "11bc14ca",
   "metadata": {},
   "source": [
    "## Do we need to prune the tree?"
   ]
  },
  {
   "cell_type": "code",
   "execution_count": null,
   "id": "65f89cc9",
   "metadata": {},
   "outputs": [],
   "source": []
  },
  {
   "cell_type": "markdown",
   "id": "nasty-retailer",
   "metadata": {
    "id": "nasty-retailer"
   },
   "source": [
    "## Actionable Insights and Recommendations"
   ]
  },
  {
   "cell_type": "code",
   "execution_count": null,
   "id": "amino-prediction",
   "metadata": {
    "id": "amino-prediction"
   },
   "outputs": [],
   "source": []
  }
 ],
 "metadata": {
  "colab": {
   "collapsed_sections": [],
   "name": "ExtraaLearn_Project_Template_Notebook.ipynb",
   "provenance": []
  },
  "kernelspec": {
   "display_name": "Python 3",
   "language": "python",
   "name": "python3"
  },
  "language_info": {
   "codemirror_mode": {
    "name": "ipython",
    "version": 3
   },
   "file_extension": ".py",
   "mimetype": "text/x-python",
   "name": "python",
   "nbconvert_exporter": "python",
   "pygments_lexer": "ipython3",
   "version": "3.12.5"
  }
 },
 "nbformat": 4,
 "nbformat_minor": 5
}
